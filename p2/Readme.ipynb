{
 "cells": [
  {
   "cell_type": "markdown",
   "source": [
    "# Readme \n",
    "\n",
    "[Description](#description) \\\n",
    "[Input](#input) \\\n",
    "[How To Run](#how-to-run)\n",
    "\n",
    "\n",
    "## Description \n",
    "\n",
    "The program simulates an airline checkin system. This checkin system has clerks handle customers with different priority levels, buisness or economy. We use a first in first out queue for each of the different priority levels. If both a buisness and an economy class customer are waiting to be serviced, the clerks will prioritze the buisness class customers. \n",
    "\n",
    "## Inputs\n",
    "\n",
    "The program takes a text file in the form: \n",
    "\n",
    "4\\\n",
    "1:0,2,60\\\n",
    "2:0,4,70\\\n",
    "3:0,5,50\\\n",
    "4:1,7,30\n",
    "\n",
    "Where the first line represents the total number of customers and the following lines represent each customer in the form of customer id: buisness or economy class, waiting time, servicing time. \n",
    "\n",
    "## How To Run\n",
    "\n",
    "Compile to program by using the command: \n",
    "> make\n",
    "\n",
    "Run the program by using the command: \n",
    "> ./p2 customers.txt\n",
    "\n",
    "You'll notice that there is already a customers text file provided. You can edit the customers text file following [the format above](#Input). \n",
    "\n",
    "\n",
    "\n",
    "\n",
    "\n"
   ],
   "metadata": {}
  }
 ],
 "metadata": {
  "kernelspec": {
   "name": "python3",
   "display_name": "Python 3.10.8 64-bit"
  },
  "language_info": {
   "codemirror_mode": {
    "name": "ipython",
    "version": 3
   },
   "file_extension": ".py",
   "mimetype": "text/x-python",
   "name": "python",
   "nbconvert_exporter": "python",
   "pygments_lexer": "ipython3",
   "version": "3.10.8"
  },
  "interpreter": {
   "hash": "b0fa6594d8f4cbf19f97940f81e996739fb7646882a419484c72d19e05852a7e"
  }
 },
 "nbformat": 4,
 "nbformat_minor": 5
}