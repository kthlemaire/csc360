{
 "cells": [
  {
   "cell_type": "markdown",
   "id": "4353d960",
   "metadata": {},
   "source": [
    "# Readme \n",
    "\n",
    "[Description](#Description) \\\n",
    "[Input](#Input) \\\n",
    "[How To Run](#How-To-Run)\n",
    "\n",
    "\n",
    "## Description \n",
    "\n",
    "The program simulates an airline checkin system. This checkin system has clerks handle customers with different priority levels, buisness or economy. We use a first in first out queue for each of the different priority levels. If both a buisness and an economy class customer are waiting to be serviced, the clerks will prioritze the buisness class customers. \n",
    "\n",
    "## Inputs\n",
    "\n",
    "The program takes a text file in the form: \n",
    "\n",
    "4\\\n",
    "1:0,2,60\\\n",
    "2:0,4,70\\\n",
    "3:0,5,50\\\n",
    "4:1,7,30\n",
    "\n",
    "Where the first line represents the total number of customers and the following lines represent each customer in the form of customer id: buisness or economy class, waiting time, servicing time. \n",
    "\n",
    "## How To Run\n",
    "\n",
    "Compile to program by using the command: \n",
    "> make\n",
    "\n",
    "Run the program by using the command: \n",
    "> ./p2 customers.txt\n",
    "\n",
    "You'll notice that there is already a customers text file provided. You can edit the customers text file following [the format above](#Input). \n",
    "\n",
    "\n",
    "\n",
    "\n",
    "\n"
   ]
  },
  {
   "cell_type": "code",
   "execution_count": null,
   "id": "ca3f4383",
   "metadata": {},
   "outputs": [],
   "source": []
  }
 ],
 "metadata": {
  "kernelspec": {
   "display_name": "Python 3 (ipykernel)",
   "language": "python",
   "name": "python3"
  },
  "language_info": {
   "codemirror_mode": {
    "name": "ipython",
    "version": 3
   },
   "file_extension": ".py",
   "mimetype": "text/x-python",
   "name": "python",
   "nbconvert_exporter": "python",
   "pygments_lexer": "ipython3",
   "version": "3.9.7"
  }
 },
 "nbformat": 4,
 "nbformat_minor": 5
}
